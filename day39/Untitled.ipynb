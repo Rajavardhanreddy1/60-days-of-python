{
 "cells": [
  {
   "cell_type": "code",
   "execution_count": 1,
   "id": "b33977da-a3d3-428f-8258-24d3b3a78dcb",
   "metadata": {},
   "outputs": [],
   "source": [
    "file=open(\"raja.txt\",\"w\")\n",
    "file.write(\"hi \\n how are you \\n learning\")\n",
    "file.close()"
   ]
  },
  {
   "cell_type": "code",
   "execution_count": 2,
   "id": "b27e674a-4b4b-4333-9f35-5545db7b58ce",
   "metadata": {},
   "outputs": [],
   "source": [
    "a=open(\"raja.txt\",\"a\")\n",
    "a.write(\"\\n python is easy\")\n",
    "a.close()"
   ]
  },
  {
   "cell_type": "code",
   "execution_count": 3,
   "id": "6a649391-4a03-4949-82e5-9c61cff14a2e",
   "metadata": {},
   "outputs": [
    {
     "data": {
      "text/plain": [
       "['hi \\n', ' how are you \\n', ' learning\\n', ' python is easy']"
      ]
     },
     "execution_count": 3,
     "metadata": {},
     "output_type": "execute_result"
    }
   ],
   "source": [
    "b=open(\"raja.txt\",\"r\")\n",
    "b.readlines()\n"
   ]
  },
  {
   "cell_type": "code",
   "execution_count": 4,
   "id": "1e07518e-ebfa-414d-976f-2915018f15e9",
   "metadata": {},
   "outputs": [
    {
     "data": {
      "text/plain": [
       "''"
      ]
     },
     "execution_count": 4,
     "metadata": {},
     "output_type": "execute_result"
    }
   ],
   "source": [
    "b.readline(1)"
   ]
  },
  {
   "cell_type": "code",
   "execution_count": 5,
   "id": "0871f111-48b2-4b93-bb33-5cb38d0ea0bc",
   "metadata": {},
   "outputs": [
    {
     "data": {
      "text/plain": [
       "0"
      ]
     },
     "execution_count": 5,
     "metadata": {},
     "output_type": "execute_result"
    }
   ],
   "source": [
    "b.seek(0)"
   ]
  },
  {
   "cell_type": "code",
   "execution_count": 6,
   "id": "86a36e86-4649-49ef-98ae-bbf7be0c5c24",
   "metadata": {},
   "outputs": [
    {
     "data": {
      "text/plain": [
       "'h'"
      ]
     },
     "execution_count": 6,
     "metadata": {},
     "output_type": "execute_result"
    }
   ],
   "source": [
    "b.readline(1)"
   ]
  },
  {
   "cell_type": "code",
   "execution_count": 7,
   "id": "130bb2fa-b373-4939-9af0-e6a46eb3d581",
   "metadata": {},
   "outputs": [
    {
     "data": {
      "text/plain": [
       "'i \\n how are you \\n learning\\n python is easy'"
      ]
     },
     "execution_count": 7,
     "metadata": {},
     "output_type": "execute_result"
    }
   ],
   "source": [
    "b.read()"
   ]
  },
  {
   "cell_type": "code",
   "execution_count": 8,
   "id": "ebb050de-245d-43a1-b711-ca23785155a1",
   "metadata": {},
   "outputs": [],
   "source": [
    "b.close()"
   ]
  },
  {
   "cell_type": "code",
   "execution_count": 10,
   "id": "eeda24d3-6c27-4453-b7ee-06e760a08a2f",
   "metadata": {},
   "outputs": [
    {
     "name": "stdout",
     "output_type": "stream",
     "text": [
      "hi \n",
      " how are you \n",
      " learning\n",
      " python is easy\n"
     ]
    }
   ],
   "source": [
    "#reading files \n",
    "with open(\"raja.txt\",\"r\") as f:\n",
    "    con=f.read()\n",
    "    print(con)"
   ]
  },
  {
   "cell_type": "code",
   "execution_count": 14,
   "id": "0114cd38-a3d5-4a42-9e0d-521694eec620",
   "metadata": {},
   "outputs": [
    {
     "name": "stdout",
     "output_type": "stream",
     "text": [
      "hi\n",
      "how are you\n",
      "learning\n",
      "python is easy\n"
     ]
    }
   ],
   "source": [
    "with open(\"raja.txt\") as f:\n",
    "    for i in f:\n",
    "        print(i.strip())"
   ]
  },
  {
   "cell_type": "code",
   "execution_count": 15,
   "id": "ef1d94b1-85e3-4228-ba01-7e8db0a48cd8",
   "metadata": {},
   "outputs": [],
   "source": [
    "#writing files\n",
    "with open(\"raja.txt\",\"w\") as f:\n",
    "    f.write(\"this file is overwrited\")\n",
    "            \n",
    "    "
   ]
  },
  {
   "cell_type": "code",
   "execution_count": 19,
   "id": "919edc0f-3e68-430c-af03-16235421d491",
   "metadata": {},
   "outputs": [],
   "source": [
    "with open(\"raja.txt\",'a') as f:\n",
    "    f.write(\"/nnew line added\")"
   ]
  },
  {
   "cell_type": "code",
   "execution_count": 20,
   "id": "21f3b0a3-c12d-491d-9e25-becc16d4eabd",
   "metadata": {},
   "outputs": [
    {
     "name": "stdout",
     "output_type": "stream",
     "text": [
      "['this file is overwritednew line added/nnew line added']\n"
     ]
    }
   ],
   "source": [
    "with open(\"raja.txt\",\"r\") as f:\n",
    "    a=f.readlines()\n",
    "    print(a)"
   ]
  },
  {
   "cell_type": "code",
   "execution_count": null,
   "id": "98d9dfc7-cf58-4332-9c8b-8a1aa7792d65",
   "metadata": {},
   "outputs": [],
   "source": [
    "\n",
    "    "
   ]
  },
  {
   "cell_type": "code",
   "execution_count": null,
   "id": "6a11123f-ddc3-4d95-945f-358f296aea75",
   "metadata": {},
   "outputs": [],
   "source": []
  }
 ],
 "metadata": {
  "kernelspec": {
   "display_name": "Python 3 (ipykernel)",
   "language": "python",
   "name": "python3"
  },
  "language_info": {
   "codemirror_mode": {
    "name": "ipython",
    "version": 3
   },
   "file_extension": ".py",
   "mimetype": "text/x-python",
   "name": "python",
   "nbconvert_exporter": "python",
   "pygments_lexer": "ipython3",
   "version": "3.11.7"
  }
 },
 "nbformat": 4,
 "nbformat_minor": 5
}
