{
 "cells": [
  {
   "cell_type": "code",
   "execution_count": 4,
   "id": "5368790f-fbbe-4743-ba43-58e45ae475ce",
   "metadata": {},
   "outputs": [],
   "source": [
    "#working on csv files \n",
    "#writing csv files \n",
    "import csv\n",
    "with open(\"raj.csv\",\"w\",newline=\"\") as f:\n",
    "    writer=csv.writer(f)\n",
    "    writer.writerow([\"name\",\"age\",\"city\"])\n",
    "    writer.writerow([\"raja\",21,\"nagulapalli\"])\n",
    "    writer.writerow([\"vardhan\",22,\"pithapuram\"])\n",
    "    rows=[[\"sudhakar\",23,\"kakinada\"],[\"reddy\",24,\"kkd\"]]\n",
    "    writer.writerows(rows)\n",
    "    \n",
    "    "
   ]
  },
  {
   "cell_type": "code",
   "execution_count": 5,
   "id": "214e527f-27f9-404e-9ff2-c7e49d513589",
   "metadata": {},
   "outputs": [],
   "source": [
    "import csv\n",
    "with open(\"raja.csv\",\"w\",newline=\"\") as f:\n",
    "    fieldnames=[\"name\",\"age\",\"city\"]\n",
    "    writer=csv.DictWriter(f,fieldnames=fieldnames)\n",
    "    writer.writeheader()\n",
    "    writer.writerow({\"name\":\"raja\",\"age\":22,\"city\":\"kkd\"})"
   ]
  },
  {
   "cell_type": "code",
   "execution_count": 6,
   "id": "ba70a654-232f-4f62-85d0-4593eb846f14",
   "metadata": {},
   "outputs": [
    {
     "data": {
      "text/plain": [
       "<re.Match object; span=(11, 16), match='phone'>"
      ]
     },
     "execution_count": 6,
     "metadata": {},
     "output_type": "execute_result"
    }
   ],
   "source": [
    "#Regular expressions \n",
    "import re\n",
    "text=\"this is my phone number 888-555-9999\"\n",
    "pattern=\"phone\"\n",
    "re.search(pattern,text)\n"
   ]
  },
  {
   "cell_type": "code",
   "execution_count": 7,
   "id": "e92611b3-437d-49a5-b81a-a9c685973430",
   "metadata": {},
   "outputs": [],
   "source": [
    "pattern=\"raja\"\n",
    "re.search(pattern,text)"
   ]
  },
  {
   "cell_type": "code",
   "execution_count": 8,
   "id": "f92e2d4d-c110-4f7a-90b9-73b67dbaf6be",
   "metadata": {},
   "outputs": [],
   "source": [
    "pattern=\"phone\"\n",
    "match=re.search(pattern,text)"
   ]
  },
  {
   "cell_type": "code",
   "execution_count": 9,
   "id": "fd172421-3951-4678-968c-fcf53b8ceee3",
   "metadata": {},
   "outputs": [
    {
     "data": {
      "text/plain": [
       "11"
      ]
     },
     "execution_count": 9,
     "metadata": {},
     "output_type": "execute_result"
    }
   ],
   "source": [
    "match.start()"
   ]
  },
  {
   "cell_type": "code",
   "execution_count": 10,
   "id": "de0ebdd5-bfae-4415-b9ea-3c3eb2c2015f",
   "metadata": {},
   "outputs": [
    {
     "data": {
      "text/plain": [
       "16"
      ]
     },
     "execution_count": 10,
     "metadata": {},
     "output_type": "execute_result"
    }
   ],
   "source": [
    "match.end()"
   ]
  },
  {
   "cell_type": "code",
   "execution_count": 11,
   "id": "af4f0572-32e6-42f5-80e8-554fc62c85de",
   "metadata": {},
   "outputs": [
    {
     "data": {
      "text/plain": [
       "(11, 16)"
      ]
     },
     "execution_count": 11,
     "metadata": {},
     "output_type": "execute_result"
    }
   ],
   "source": [
    "match.span()"
   ]
  },
  {
   "cell_type": "code",
   "execution_count": 12,
   "id": "1ea14532-438b-4ae2-92b4-6c4229ec133e",
   "metadata": {},
   "outputs": [
    {
     "data": {
      "text/plain": [
       "['phone number', 'phone number']"
      ]
     },
     "execution_count": 12,
     "metadata": {},
     "output_type": "execute_result"
    }
   ],
   "source": [
    "text=\"phone number 1, phone number 2\"\n",
    "pattern=\"phone number\"\n",
    "re.findall(pattern,text)"
   ]
  },
  {
   "cell_type": "code",
   "execution_count": 15,
   "id": "76d142e4-3b80-459a-920e-8e5002832137",
   "metadata": {},
   "outputs": [
    {
     "name": "stdout",
     "output_type": "stream",
     "text": [
      "phone number\n",
      "phone number\n"
     ]
    }
   ],
   "source": [
    "for match in re.finditer(pattern,text):\n",
    "    print(match.group())"
   ]
  },
  {
   "cell_type": "code",
   "execution_count": 20,
   "id": "e3e12ae7-ef6a-4612-9717-2e4f10b9854a",
   "metadata": {},
   "outputs": [],
   "source": [
    "text=\"my phone number is 888-222-5555\"\n",
    "pattern=r\"\\d\\d\\d-\\d\\d\\d-\\d\\d\\d\\d\"\n",
    "phone=re.search(pattern,text)"
   ]
  },
  {
   "cell_type": "code",
   "execution_count": 22,
   "id": "0a852096-1c03-4d08-a66f-3528c46feb91",
   "metadata": {},
   "outputs": [
    {
     "data": {
      "text/plain": [
       "(19, 31)"
      ]
     },
     "execution_count": 22,
     "metadata": {},
     "output_type": "execute_result"
    }
   ],
   "source": [
    "phone.span()"
   ]
  },
  {
   "cell_type": "code",
   "execution_count": 23,
   "id": "2ea84bd6-cecf-49be-9df7-29d66d631417",
   "metadata": {},
   "outputs": [],
   "source": [
    "#by using quantifier\n",
    "text=\"my phone number is 888-222-5555\"\n",
    "pattern=r\"\\d{3}-\\d{3}-\\d{4}\"\n",
    "phone=re.search(pattern,text)"
   ]
  },
  {
   "cell_type": "code",
   "execution_count": 25,
   "id": "02300bac-1371-4465-8b07-9a72e21630f7",
   "metadata": {},
   "outputs": [
    {
     "data": {
      "text/plain": [
       "'888-222-5555'"
      ]
     },
     "execution_count": 25,
     "metadata": {},
     "output_type": "execute_result"
    }
   ],
   "source": [
    "phone.group()"
   ]
  },
  {
   "cell_type": "code",
   "execution_count": 26,
   "id": "f7e5f626-3da4-4a23-8408-6a0cda4ae1c8",
   "metadata": {},
   "outputs": [],
   "source": [
    "phone_pattern=re.compile(r\"(\\d{3})-(\\d{3})-(\\d{4})\")\n",
    "\n",
    "                         "
   ]
  },
  {
   "cell_type": "code",
   "execution_count": 28,
   "id": "3ff59967-d973-49e0-ae8d-93acaa86ddd6",
   "metadata": {},
   "outputs": [],
   "source": [
    "result=re.search(phone_pattern,text)"
   ]
  },
  {
   "cell_type": "code",
   "execution_count": 29,
   "id": "e01e4217-610c-4e2c-a595-68d4b59c4d80",
   "metadata": {},
   "outputs": [
    {
     "data": {
      "text/plain": [
       "'888'"
      ]
     },
     "execution_count": 29,
     "metadata": {},
     "output_type": "execute_result"
    }
   ],
   "source": [
    "result.group(1)"
   ]
  },
  {
   "cell_type": "code",
   "execution_count": 33,
   "id": "6bf9c1f4-0cf0-45c3-b6db-c1cee1757c1f",
   "metadata": {},
   "outputs": [
    {
     "data": {
      "text/plain": [
       "<re.Match object; span=(0, 4), match='raja'>"
      ]
     },
     "execution_count": 33,
     "metadata": {},
     "output_type": "execute_result"
    }
   ],
   "source": [
    "re.search(r\"raja|vardhan\" ,\"raja is a good boy\")"
   ]
  },
  {
   "cell_type": "code",
   "execution_count": 37,
   "id": "8120c771-f253-4ba3-95cb-ce67165acbf4",
   "metadata": {},
   "outputs": [
    {
     "data": {
      "text/plain": [
       "[' cat', ' hat', 'slat']"
      ]
     },
     "execution_count": 37,
     "metadata": {},
     "output_type": "execute_result"
    }
   ],
   "source": [
    "re.findall(r\"..at\",\"the cat in the hat has slat\")"
   ]
  },
  {
   "cell_type": "code",
   "execution_count": 39,
   "id": "50d1f503-c6a0-4747-b1ec-562281205a3c",
   "metadata": {},
   "outputs": [
    {
     "data": {
      "text/plain": [
       "['1']"
      ]
     },
     "execution_count": 39,
     "metadata": {},
     "output_type": "execute_result"
    }
   ],
   "source": [
    "re.findall(r\"^\\d\",\"1 is anum\")"
   ]
  },
  {
   "cell_type": "code",
   "execution_count": 40,
   "id": "fc7cbcb7-5ad4-4548-8173-3355a59f00fd",
   "metadata": {},
   "outputs": [
    {
     "data": {
      "text/plain": [
       "['4']"
      ]
     },
     "execution_count": 40,
     "metadata": {},
     "output_type": "execute_result"
    }
   ],
   "source": [
    "re.findall(r\"\\d$\",\" is anum 4\")"
   ]
  },
  {
   "cell_type": "code",
   "execution_count": 42,
   "id": "16239371-9a85-4059-a591-8e88248bcaaa",
   "metadata": {},
   "outputs": [
    {
     "data": {
      "text/plain": [
       "['there are ', ' numbers ', 'in side a function ']"
      ]
     },
     "execution_count": 42,
     "metadata": {},
     "output_type": "execute_result"
    }
   ],
   "source": [
    "phrase=\"there are 3 numbers 34in side a function 32\"\n",
    "pattern=r\"[^\\d]+\"\n",
    "re.findall(pattern,phrase)"
   ]
  },
  {
   "cell_type": "code",
   "execution_count": 47,
   "id": "d4b0c6e3-20c1-49db-bd44-e79194d25749",
   "metadata": {},
   "outputs": [],
   "source": [
    "test_phrase=\"this is a string! it as puncation. and it as queston amrk?\"\n",
    "pattern=r\"[^!? ]+\""
   ]
  },
  {
   "cell_type": "code",
   "execution_count": 48,
   "id": "e4a5ad1b-e9e3-4dc4-a96c-69cda54b1c14",
   "metadata": {},
   "outputs": [],
   "source": [
    "clean=re.findall(pattern,test_phrase)"
   ]
  },
  {
   "cell_type": "code",
   "execution_count": 49,
   "id": "912f028c-1f28-4d72-ad0d-27466eb0f3c7",
   "metadata": {},
   "outputs": [
    {
     "data": {
      "text/plain": [
       "'this is a string it as puncation. and it as queston amrk'"
      ]
     },
     "execution_count": 49,
     "metadata": {},
     "output_type": "execute_result"
    }
   ],
   "source": [
    "' '.join(clean)"
   ]
  },
  {
   "cell_type": "code",
   "execution_count": 51,
   "id": "89c9af6f-edee-4aec-aeb8-142d6d5db430",
   "metadata": {},
   "outputs": [
    {
     "data": {
      "text/plain": [
       "['hypen-word', 'how-are']"
      ]
     },
     "execution_count": 51,
     "metadata": {},
     "output_type": "execute_result"
    }
   ],
   "source": [
    "text=\"only fing hypen-word and another how-are\"\n",
    "pattern=r\"[\\w]+-[\\w]+\"\n",
    "re.findall(pattern,text)"
   ]
  },
  {
   "cell_type": "code",
   "execution_count": 56,
   "id": "133ace5f-0633-4b34-925b-1ded9486b94d",
   "metadata": {},
   "outputs": [],
   "source": [
    "textone=\"catfish\"\n",
    "texttwo=\"catnap\"\n",
    "textthree=\"caterpillar\"\n",
    "a=re.search(r\"cat(pillar|nap|fish)\",textone)"
   ]
  },
  {
   "cell_type": "code",
   "execution_count": 57,
   "id": "836b4a14-0d49-4f3c-b7ec-a51b73f599c2",
   "metadata": {},
   "outputs": [
    {
     "data": {
      "text/plain": [
       "'catfish'"
      ]
     },
     "execution_count": 57,
     "metadata": {},
     "output_type": "execute_result"
    }
   ],
   "source": [
    "a.group()"
   ]
  },
  {
   "cell_type": "code",
   "execution_count": null,
   "id": "049997d8-985a-4845-83f7-7303446b822d",
   "metadata": {},
   "outputs": [],
   "source": []
  }
 ],
 "metadata": {
  "kernelspec": {
   "display_name": "Python 3 (ipykernel)",
   "language": "python",
   "name": "python3"
  },
  "language_info": {
   "codemirror_mode": {
    "name": "ipython",
    "version": 3
   },
   "file_extension": ".py",
   "mimetype": "text/x-python",
   "name": "python",
   "nbconvert_exporter": "python",
   "pygments_lexer": "ipython3",
   "version": "3.11.7"
  }
 },
 "nbformat": 4,
 "nbformat_minor": 5
}
