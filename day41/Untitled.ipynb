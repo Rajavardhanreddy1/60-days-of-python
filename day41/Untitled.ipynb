{
 "cells": [
  {
   "cell_type": "code",
   "execution_count": 6,
   "id": "5368790f-fbbe-4743-ba43-58e45ae475ce",
   "metadata": {},
   "outputs": [],
   "source": [
    "#working on csv files \n",
    "#writing csv files \n",
    "import csv\n",
    "with open(\"raj.csv\",\"w\",newline=\"\") as f:\n",
    "    writer=csv.writer(f)\n",
    "    writer.writerow([\"name\",\"age\",\"city\"])\n",
    "    writer.writerow([\"raja\",21,\"nagulapalli\"])\n",
    "    writer.writerow([\"vardhan\",22,\"pithapuram\"])\n",
    "    rows=[[\"sudhakar\",23,\"kakinada\"],[\"reddy\",24,\"kkd\"]]\n",
    "    writer.writerows(rows)\n",
    "    \n",
    "    "
   ]
  },
  {
   "cell_type": "code",
   "execution_count": null,
   "id": "214e527f-27f9-404e-9ff2-c7e49d513589",
   "metadata": {},
   "outputs": [],
   "source": [
    "import csv\n",
    "with open(\"raja.csv\",\"w\",newline=\"\") as f:\n",
    "    fieldnames=[\"name\",\"age\",\"city\"]\n",
    "    writer=csv.Dictwriter(f,fieldnames=fieldnames)\n",
    "    writer.writerheader()\n",
    "    writer.writerow({\"name\":\"raja\",\"age\":22,\"city\":\"kkd\"})"
   ]
  }
 ],
 "metadata": {
  "kernelspec": {
   "display_name": "Python 3 (ipykernel)",
   "language": "python",
   "name": "python3"
  },
  "language_info": {
   "codemirror_mode": {
    "name": "ipython",
    "version": 3
   },
   "file_extension": ".py",
   "mimetype": "text/x-python",
   "name": "python",
   "nbconvert_exporter": "python",
   "pygments_lexer": "ipython3",
   "version": "3.11.7"
  }
 },
 "nbformat": 4,
 "nbformat_minor": 5
}
