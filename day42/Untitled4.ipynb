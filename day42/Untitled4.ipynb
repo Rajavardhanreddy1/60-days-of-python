{
 "cells": [
  {
   "cell_type": "code",
   "execution_count": 16,
   "id": "4610114a-2e9d-4fc4-98ff-be96515ca727",
   "metadata": {},
   "outputs": [],
   "source": [
    "import re\n",
    "a=\"ths is my phone phone\"\n",
    "pattern=r\"phone\"\n",
    "match=re.search(pattern,a)"
   ]
  },
  {
   "cell_type": "code",
   "execution_count": 17,
   "id": "5c51d5f5-5122-42ca-9116-c923dd05fba3",
   "metadata": {},
   "outputs": [
    {
     "data": {
      "text/plain": [
       "10"
      ]
     },
     "execution_count": 17,
     "metadata": {},
     "output_type": "execute_result"
    }
   ],
   "source": [
    "match.start()"
   ]
  },
  {
   "cell_type": "code",
   "execution_count": 18,
   "id": "00860409-7b40-431c-804e-e34c71e10d0a",
   "metadata": {},
   "outputs": [
    {
     "data": {
      "text/plain": [
       "15"
      ]
     },
     "execution_count": 18,
     "metadata": {},
     "output_type": "execute_result"
    }
   ],
   "source": [
    "match.end()"
   ]
  },
  {
   "cell_type": "code",
   "execution_count": 19,
   "id": "d32c1cef-981f-4fd2-972a-758e90262e27",
   "metadata": {},
   "outputs": [
    {
     "data": {
      "text/plain": [
       "(10, 15)"
      ]
     },
     "execution_count": 19,
     "metadata": {},
     "output_type": "execute_result"
    }
   ],
   "source": [
    "match.span()"
   ]
  },
  {
   "cell_type": "code",
   "execution_count": 20,
   "id": "2c9472c3-02e8-4f87-9e87-5eaa1e6b6114",
   "metadata": {},
   "outputs": [],
   "source": [
    "re.match(r\"phone\",a)"
   ]
  },
  {
   "cell_type": "code",
   "execution_count": 21,
   "id": "ab32eaaf-417f-41c5-9b53-46be607fc137",
   "metadata": {},
   "outputs": [
    {
     "data": {
      "text/plain": [
       "'phone'"
      ]
     },
     "execution_count": 21,
     "metadata": {},
     "output_type": "execute_result"
    }
   ],
   "source": [
    "match.group()"
   ]
  },
  {
   "cell_type": "code",
   "execution_count": 22,
   "id": "7d2c6b3f-438d-4ccb-8ca4-2a31b047cc52",
   "metadata": {},
   "outputs": [
    {
     "data": {
      "text/plain": [
       "{}"
      ]
     },
     "execution_count": 22,
     "metadata": {},
     "output_type": "execute_result"
    }
   ],
   "source": [
    "match.groupdict()"
   ]
  },
  {
   "cell_type": "code",
   "execution_count": 26,
   "id": "120e9871-e716-4937-ac0f-9acb967d6826",
   "metadata": {},
   "outputs": [],
   "source": [
    "c=re.search(r\"phone\",a)"
   ]
  },
  {
   "cell_type": "code",
   "execution_count": 27,
   "id": "6e068537-e89c-4601-ab1b-74d7c1bf7df9",
   "metadata": {},
   "outputs": [
    {
     "data": {
      "text/plain": [
       "()"
      ]
     },
     "execution_count": 27,
     "metadata": {},
     "output_type": "execute_result"
    }
   ],
   "source": [
    "c.groups()"
   ]
  },
  {
   "cell_type": "code",
   "execution_count": 30,
   "id": "258b1466-ce5e-422e-8834-a9d6c13ed817",
   "metadata": {},
   "outputs": [
    {
     "data": {
      "text/plain": [
       "['939-260-4366', '939-260-4333']"
      ]
     },
     "execution_count": 30,
     "metadata": {},
     "output_type": "execute_result"
    }
   ],
   "source": [
    "s=\"this is my phone number 939-260-4366 and another phone number was 939-260-4333\"\n",
    "re.findall(r\"\\d{3}-\\d{3}-\\d{4}\",s)"
   ]
  },
  {
   "cell_type": "raw",
   "id": "c40b063b-dd21-40f2-a718-4c8718fbfe94",
   "metadata": {},
   "source": [
    "re.fi"
   ]
  },
  {
   "cell_type": "code",
   "execution_count": 38,
   "id": "80a3e459-15a8-4433-8cb9-12d2b23a788b",
   "metadata": {},
   "outputs": [
    {
     "data": {
      "text/plain": [
       "['this',\n",
       " 'is',\n",
       " 'my',\n",
       " 'phone',\n",
       " 'number',\n",
       " '939-260-4366',\n",
       " 'and',\n",
       " 'another',\n",
       " 'phone',\n",
       " 'number',\n",
       " 'was',\n",
       " '939-260-4333']"
      ]
     },
     "execution_count": 38,
     "metadata": {},
     "output_type": "execute_result"
    }
   ],
   "source": [
    "re.split(r\"\\s\",s)"
   ]
  },
  {
   "cell_type": "code",
   "execution_count": 40,
   "id": "2234a635-aca2-4393-852a-ccaac451d9bc",
   "metadata": {},
   "outputs": [],
   "source": [
    "text = \"Today's date is 2025-04-29.\"\n",
    "pattern=re.compile(r\"(\\d+)-(\\d+)-(\\d+)\")\n",
    "match=pattern.search(text)\n"
   ]
  },
  {
   "cell_type": "code",
   "execution_count": 42,
   "id": "22f06836-e932-4564-81e4-8cfc6cbae72c",
   "metadata": {},
   "outputs": [
    {
     "data": {
      "text/plain": [
       "'2025'"
      ]
     },
     "execution_count": 42,
     "metadata": {},
     "output_type": "execute_result"
    }
   ],
   "source": [
    "match.group(1)"
   ]
  },
  {
   "cell_type": "code",
   "execution_count": 51,
   "id": "afd0e722-6dfd-4976-b761-9c74566808c7",
   "metadata": {},
   "outputs": [
    {
     "data": {
      "text/plain": [
       "<re.Match object; span=(0, 23), match='user.name+tag@domain.co'>"
      ]
     },
     "execution_count": 51,
     "metadata": {},
     "output_type": "execute_result"
    }
   ],
   "source": [
    "email = \"user.name+tag@domain.co\"\n",
    "re.search(r\"[a-z A-Z 0-9 .+_]+@[a-z A-Z 0-9]+.[a-z A-Z]+\", email)"
   ]
  },
  {
   "cell_type": "code",
   "execution_count": 55,
   "id": "6ce53cbc-ec3d-4930-b1d2-55d5660cb190",
   "metadata": {},
   "outputs": [
    {
     "data": {
      "text/plain": [
       "'\"Hello World\"'"
      ]
     },
     "execution_count": 55,
     "metadata": {},
     "output_type": "execute_result"
    }
   ],
   "source": [
    "text = 'He said, \"Hello World\" and left.'\n",
    "match=re.search(r'(\"\\w+\\s\\w+\")',text)\n",
    "match.group()"
   ]
  },
  {
   "cell_type": "code",
   "execution_count": null,
   "id": "09fdcb77-0cef-4758-a507-cfa082b356d1",
   "metadata": {},
   "outputs": [],
   "source": []
  }
 ],
 "metadata": {
  "kernelspec": {
   "display_name": "Python 3 (ipykernel)",
   "language": "python",
   "name": "python3"
  },
  "language_info": {
   "codemirror_mode": {
    "name": "ipython",
    "version": 3
   },
   "file_extension": ".py",
   "mimetype": "text/x-python",
   "name": "python",
   "nbconvert_exporter": "python",
   "pygments_lexer": "ipython3",
   "version": "3.11.7"
  }
 },
 "nbformat": 4,
 "nbformat_minor": 5
}
