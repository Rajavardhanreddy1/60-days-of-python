{
 "cells": [
  {
   "cell_type": "code",
   "execution_count": null,
   "id": "f330c27d-bea4-41af-8de9-60efcbadbaf3",
   "metadata": {},
   "outputs": [],
   "source": [
    "# Problem: The \"Mirror Words\" Finder\n",
    "# Description:\n",
    "# You are given a sentence. A mirror word is a word that looks the same when read backwards and when its letters are reversed like a mirror.\n",
    "# For this problem, assume only these letters are mirror-safe:\n",
    "# A, H, I, M, O, T, U, V, W, X, Y\n",
    "# Example mirror words:\n",
    "# \"MOM\" → reversed is \"MOM\" and all letters are mirror-safe ✅\n",
    "# \"TOY\" → reversed is \"YOT\" (not the same) ❌\n",
    "# \"WOW\" → reversed is \"WOW\" and mirror-safe ✅\n",
    "# Task:\n",
    "# Write a Python program that:Takes a sentence as input.\n",
    "# Finds all mirror words in it.\n",
    "# Prints them in a list. If none exist, print No mirror words found.\n",
    "# ✨ Example\n",
    "# Input:\n",
    "# Enter a sentence: MOM AND WOW LOVE TOY\n",
    "# Output:\n",
    "# Mirror words: ['MOM', 'WOW']\n",
    "def mirrorword(w):\n",
    "    b=[\"A\",\"H\",\"I\",\"M\",\"O\", \"T\",\"U\",\"V\",\"W\",\"X\",\"Y\"]\n",
    "    a=w.split()\n",
    "    for i in a:\n",
    "        "
   ]
  }
 ],
 "metadata": {
  "kernelspec": {
   "display_name": "Python 3 (ipykernel)",
   "language": "python",
   "name": "python3"
  },
  "language_info": {
   "codemirror_mode": {
    "name": "ipython",
    "version": 3
   },
   "file_extension": ".py",
   "mimetype": "text/x-python",
   "name": "python",
   "nbconvert_exporter": "python",
   "pygments_lexer": "ipython3",
   "version": "3.11.7"
  }
 },
 "nbformat": 4,
 "nbformat_minor": 5
}
