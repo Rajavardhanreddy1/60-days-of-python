{
 "cells": [
  {
   "cell_type": "code",
   "execution_count": 7,
   "id": "9c1f0838-b15f-4c67-8192-81828068cbf2",
   "metadata": {},
   "outputs": [],
   "source": [
    "a=open(\"raja.txt\",\"w\")\n",
    "a.write(\"hi, iam raja\")\n",
    "a.write(\"\\nhello\")\n",
    "a.write(\"\\ncool\")\n",
    "a.close()"
   ]
  },
  {
   "cell_type": "code",
   "execution_count": 9,
   "id": "c8be6999-a58f-4e84-b712-8643f1b65147",
   "metadata": {},
   "outputs": [],
   "source": [
    "with open(\"raja.txt\",\"a\") as f:\n",
    "    f.write(\"\\nits a good day\")\n",
    "    "
   ]
  },
  {
   "cell_type": "code",
   "execution_count": 14,
   "id": "9c84b0cf-8a6f-4e46-9cda-606c3af96581",
   "metadata": {},
   "outputs": [
    {
     "name": "stdout",
     "output_type": "stream",
     "text": [
      "['hi, iam raja\\n', 'hello\\n', 'coolits a good day\\n', 'its a good dayoverwriting']\n"
     ]
    }
   ],
   "source": [
    "with open(\"raja.txt\",\"r+\") as f:\n",
    "    r=f.readlines()\n",
    "    f.write(\"\\noverwriting\")\n",
    "    print(r)\n",
    "    "
   ]
  },
  {
   "cell_type": "code",
   "execution_count": 15,
   "id": "80a51143-fbb4-45ad-b1c7-caf6d7076cfb",
   "metadata": {},
   "outputs": [],
   "source": [
    "#csv file handling\n",
    "import csv\n",
    "data = [\n",
    "    [\"Name\", \"Age\", \"Marks\"],\n",
    "    [\"Rajavardhan\", 22, 87],\n",
    "    [\"Ravi\", 21, 90],\n",
    "    [\"Anjali\", 23, 85]\n",
    "]\n",
    "with open(\"raja.csv\",\"w\",newline=\"\") as f:\n",
    "    writer=csv.writer(f)\n",
    "    writer.writerows(data)\n",
    "    "
   ]
  },
  {
   "cell_type": "code",
   "execution_count": 19,
   "id": "d2d4d06a-facb-40d2-82e3-5ff75c98bd73",
   "metadata": {},
   "outputs": [
    {
     "name": "stdout",
     "output_type": "stream",
     "text": [
      "[['Name', 'Age', 'Marks'], ['Rajavardhan', '22', '87'], ['Ravi', '21', '90'], ['Anjali', '23', '85']]\n"
     ]
    }
   ],
   "source": [
    "with open(\"raja.csv\",\"r\",newline=\"\") as f:\n",
    "    reader=csv.reader(f)\n",
    "    data=list(reader)\n",
    "    print(data)"
   ]
  },
  {
   "cell_type": "code",
   "execution_count": 6,
   "id": "8da17619-d7af-49c8-98c1-8291b8c37bf7",
   "metadata": {},
   "outputs": [],
   "source": [
    "import csv\n",
    "fields = [\"Name\", \"Age\", \"Marks\"]\n",
    "rows = [\n",
    "    {\"Name\": \"Rajavardhan\", \"Age\": 22, \"Marks\": 87},\n",
    "    {\"Name\": \"Ravi\", \"Age\": 21, \"Marks\": 90},\n",
    "    {\"Name\": \"Anjali\", \"Age\": 23, \"Marks\": 85}\n",
    "]\n",
    "\n",
    "with open(\"rajareddy.csv\",\"w\",newline=\"\") as f:\n",
    "    writer=csv.DictWriter(f,fieldnames=fields)\n",
    "    writer.writeheader()\n",
    "    writer.writerows(rows)"
   ]
  },
  {
   "cell_type": "code",
   "execution_count": 16,
   "id": "0e116d78-7988-4fb7-857c-0a8c1353b0e0",
   "metadata": {},
   "outputs": [],
   "source": [
    "with open(\"rajareddy.csv\",\"r\",newline=\"\") as f:\n",
    "    reader=csv.DictReader(f)\n",
    "    for rows in reader:\n",
    "        print(rows[\"Name\"])"
   ]
  },
  {
   "cell_type": "code",
   "execution_count": 19,
   "id": "5f97e545-3b4d-4958-bc63-a0c5447e2e46",
   "metadata": {},
   "outputs": [],
   "source": [
    "#json ile handling\n",
    "import json\n",
    "data = {\n",
    "    \"Name\": \"Rajavardhan\",\n",
    "    \"Age\": 22,\n",
    "    \"Marks\": [87, 90, 85],\n",
    "    \"Passed\": True\n",
    "}\n",
    "with open(\"raja.json\",\"w\") as f:\n",
    "    writer=json.dump(data,f,indent=4)\n",
    "    \n"
   ]
  },
  {
   "cell_type": "code",
   "execution_count": 39,
   "id": "84100ff5-1ec3-4346-abcb-e9587886da58",
   "metadata": {},
   "outputs": [
    {
     "name": "stdout",
     "output_type": "stream",
     "text": [
      "7.0710678118654755\n"
     ]
    },
    {
     "data": {
      "text/plain": [
       "51090942171709440000"
      ]
     },
     "execution_count": 39,
     "metadata": {},
     "output_type": "execute_result"
    }
   ],
   "source": [
    "# working with modules\n",
    "import math\n",
    "print(math.sqrt(50))\n",
    "math.ceil(10.1)\n",
    "math.fabs(-10)\n",
    "math.log(1)\n",
    "math.sin(1)\n",
    "math.factorial(21)"
   ]
  },
  {
   "cell_type": "code",
   "execution_count": 46,
   "id": "23a4a3ab-33f9-412e-8531-614ce8dce4fa",
   "metadata": {},
   "outputs": [
    {
     "data": {
      "text/plain": [
       "14.946301400031821"
      ]
     },
     "execution_count": 46,
     "metadata": {},
     "output_type": "execute_result"
    }
   ],
   "source": [
    "import random\n",
    "random.randint(0,10)\n",
    "random.random()\n",
    "random.randrange(0,100)\n",
    "random.choice([\"raja\",\"vardhan\",\"reddy\"])\n",
    "random.uniform(10,20)"
   ]
  },
  {
   "cell_type": "code",
   "execution_count": null,
   "id": "12517c2e-48a3-405d-9896-552cc6a260a8",
   "metadata": {},
   "outputs": [],
   "source": []
  }
 ],
 "metadata": {
  "kernelspec": {
   "display_name": "Python 3 (ipykernel)",
   "language": "python",
   "name": "python3"
  },
  "language_info": {
   "codemirror_mode": {
    "name": "ipython",
    "version": 3
   },
   "file_extension": ".py",
   "mimetype": "text/x-python",
   "name": "python",
   "nbconvert_exporter": "python",
   "pygments_lexer": "ipython3",
   "version": "3.11.7"
  }
 },
 "nbformat": 4,
 "nbformat_minor": 5
}
